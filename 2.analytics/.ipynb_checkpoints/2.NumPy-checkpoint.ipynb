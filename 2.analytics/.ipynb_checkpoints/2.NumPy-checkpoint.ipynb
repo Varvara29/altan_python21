{
 "cells": [
  {
   "cell_type": "code",
   "execution_count": 1,
   "id": "1e253b1d",
   "metadata": {},
   "outputs": [],
   "source": [
    "# !pip install numpy, pandas"
   ]
  },
  {
   "cell_type": "code",
   "execution_count": 2,
   "id": "318aa46d",
   "metadata": {},
   "outputs": [],
   "source": [
    "import numpy as np"
   ]
  },
  {
   "cell_type": "code",
   "execution_count": 20,
   "id": "2ba35b09",
   "metadata": {},
   "outputs": [
    {
     "data": {
      "text/plain": [
       "1000"
      ]
     },
     "execution_count": 20,
     "metadata": {},
     "output_type": "execute_result"
    }
   ],
   "source": [
    "# генерация массива со случайными целочисленными значениями\n",
    "# randint генерирует случайное значение из диапазона (которое указано)\n",
    "# (скалярное значение)\n",
    "np.random.randint(999, 1001)"
   ]
  },
  {
   "cell_type": "code",
   "execution_count": 14,
   "id": "f2512c5e",
   "metadata": {},
   "outputs": [
    {
     "data": {
      "text/plain": [
       "array([7, 7, 3, 5, 1])"
      ]
     },
     "execution_count": 14,
     "metadata": {},
     "output_type": "execute_result"
    }
   ],
   "source": [
    "# 1-мерный массив со случайными целыми значениями\n",
    "np.random.randint(10, size=5)"
   ]
  },
  {
   "cell_type": "code",
   "execution_count": 15,
   "id": "7533d074",
   "metadata": {},
   "outputs": [
    {
     "data": {
      "text/plain": [
       "array([6, 9, 5, 5, 9])"
      ]
     },
     "execution_count": 15,
     "metadata": {},
     "output_type": "execute_result"
    }
   ],
   "source": [
    "np.random.randint(5, 10, size=5)"
   ]
  },
  {
   "cell_type": "code",
   "execution_count": 22,
   "id": "553bda08",
   "metadata": {},
   "outputs": [
    {
     "data": {
      "text/plain": [
       "array([[50, 41, 49, 10, 56],\n",
       "       [87, 90, 10, 42, 45],\n",
       "       [29, 20, 63, 95, 82]])"
      ]
     },
     "execution_count": 22,
     "metadata": {},
     "output_type": "execute_result"
    }
   ],
   "source": [
    "# 2-мерный массив\n",
    "np.random.randint(5, 100, size=(3,5))"
   ]
  },
  {
   "cell_type": "code",
   "execution_count": null,
   "id": "d45e9e97",
   "metadata": {},
   "outputs": [],
   "source": []
  },
  {
   "cell_type": "markdown",
   "id": "b39d017c",
   "metadata": {},
   "source": [
    "- Атрибуты"
   ]
  },
  {
   "cell_type": "code",
   "execution_count": 24,
   "id": "2dbab1c7",
   "metadata": {},
   "outputs": [
    {
     "data": {
      "text/plain": [
       "array([[5, 4, 2, 0, 4],\n",
       "       [4, 3, 8, 7, 8],\n",
       "       [1, 3, 5, 9, 6]])"
      ]
     },
     "execution_count": 24,
     "metadata": {},
     "output_type": "execute_result"
    }
   ],
   "source": [
    "arr_1 = np.random.randint(10, size=(3,5))\n",
    "arr_1"
   ]
  },
  {
   "cell_type": "code",
   "execution_count": 25,
   "id": "02b61007",
   "metadata": {},
   "outputs": [
    {
     "data": {
      "text/plain": [
       "2"
      ]
     },
     "execution_count": 25,
     "metadata": {},
     "output_type": "execute_result"
    }
   ],
   "source": [
    "# мерность массива (кол-во измерений/осей)\n",
    "arr_1.ndim"
   ]
  },
  {
   "cell_type": "code",
   "execution_count": 26,
   "id": "f3b93c90",
   "metadata": {},
   "outputs": [
    {
     "data": {
      "text/plain": [
       "(3, 5)"
      ]
     },
     "execution_count": 26,
     "metadata": {},
     "output_type": "execute_result"
    }
   ],
   "source": [
    "# форма массива\n",
    "arr_1.shape"
   ]
  },
  {
   "cell_type": "code",
   "execution_count": 27,
   "id": "7bd198dd",
   "metadata": {},
   "outputs": [
    {
     "data": {
      "text/plain": [
       "3"
      ]
     },
     "execution_count": 27,
     "metadata": {},
     "output_type": "execute_result"
    }
   ],
   "source": [
    "arr_1.shape[0]"
   ]
  },
  {
   "cell_type": "code",
   "execution_count": 28,
   "id": "a129c7a4",
   "metadata": {},
   "outputs": [
    {
     "data": {
      "text/plain": [
       "15"
      ]
     },
     "execution_count": 28,
     "metadata": {},
     "output_type": "execute_result"
    }
   ],
   "source": [
    "# кол-во всех элементов массива\n",
    "arr_1.size"
   ]
  },
  {
   "cell_type": "code",
   "execution_count": 29,
   "id": "cfda90e4",
   "metadata": {},
   "outputs": [
    {
     "data": {
      "text/plain": [
       "dtype('int32')"
      ]
     },
     "execution_count": 29,
     "metadata": {},
     "output_type": "execute_result"
    }
   ],
   "source": [
    "# тип данных массива\n",
    "arr_1.dtype"
   ]
  },
  {
   "cell_type": "code",
   "execution_count": 30,
   "id": "8155f49f",
   "metadata": {},
   "outputs": [
    {
     "data": {
      "text/plain": [
       "dtype('float64')"
      ]
     },
     "execution_count": 30,
     "metadata": {},
     "output_type": "execute_result"
    }
   ],
   "source": [
    "np.random.random(5).dtype"
   ]
  },
  {
   "cell_type": "code",
   "execution_count": 31,
   "id": "cf34c629",
   "metadata": {},
   "outputs": [
    {
     "data": {
      "text/plain": [
       "array([[5, 4, 2, 0, 4],\n",
       "       [4, 3, 8, 7, 8],\n",
       "       [1, 3, 5, 9, 6]], dtype=uint8)"
      ]
     },
     "execution_count": 31,
     "metadata": {},
     "output_type": "execute_result"
    }
   ],
   "source": [
    "arr_1.astype(\"uint8\")"
   ]
  },
  {
   "cell_type": "code",
   "execution_count": null,
   "id": "9bb99f5d",
   "metadata": {},
   "outputs": [],
   "source": []
  },
  {
   "cell_type": "markdown",
   "id": "04769b53",
   "metadata": {},
   "source": [
    "- Индексация"
   ]
  },
  {
   "cell_type": "code",
   "execution_count": 32,
   "id": "018fda3e",
   "metadata": {},
   "outputs": [
    {
     "data": {
      "text/plain": [
       "array([6, 7, 4, 9, 2, 9, 2, 9, 7, 2])"
      ]
     },
     "execution_count": 32,
     "metadata": {},
     "output_type": "execute_result"
    }
   ],
   "source": [
    "arr_2 = np.random.randint(10, size=10)\n",
    "arr_2"
   ]
  },
  {
   "cell_type": "code",
   "execution_count": 35,
   "id": "a8b1161b",
   "metadata": {},
   "outputs": [
    {
     "data": {
      "text/plain": [
       "6"
      ]
     },
     "execution_count": 35,
     "metadata": {},
     "output_type": "execute_result"
    }
   ],
   "source": [
    "# прямая индексация\n",
    "arr_2[0]"
   ]
  },
  {
   "cell_type": "code",
   "execution_count": 36,
   "id": "fc13a5cd",
   "metadata": {},
   "outputs": [
    {
     "data": {
      "text/plain": [
       "2"
      ]
     },
     "execution_count": 36,
     "metadata": {},
     "output_type": "execute_result"
    }
   ],
   "source": [
    "# обратная индексация\n",
    "arr_2[-1]"
   ]
  },
  {
   "cell_type": "code",
   "execution_count": 39,
   "id": "83cafce9",
   "metadata": {},
   "outputs": [
    {
     "data": {
      "text/plain": [
       "array([[5, 4, 7, 0],\n",
       "       [5, 1, 6, 9],\n",
       "       [4, 2, 9, 3]])"
      ]
     },
     "execution_count": 39,
     "metadata": {},
     "output_type": "execute_result"
    }
   ],
   "source": [
    "# индексация 2-мерых массивов\n",
    "arr_3 = np.random.randint(10, size=(3,4))\n",
    "arr_3"
   ]
  },
  {
   "cell_type": "code",
   "execution_count": 40,
   "id": "0f1e4e36",
   "metadata": {},
   "outputs": [
    {
     "data": {
      "text/plain": [
       "6"
      ]
     },
     "execution_count": 40,
     "metadata": {},
     "output_type": "execute_result"
    }
   ],
   "source": [
    "# обычный синтаксис\n",
    "arr_3[1][2]"
   ]
  },
  {
   "cell_type": "code",
   "execution_count": 41,
   "id": "d21e48ad",
   "metadata": {},
   "outputs": [
    {
     "data": {
      "text/plain": [
       "6"
      ]
     },
     "execution_count": 41,
     "metadata": {},
     "output_type": "execute_result"
    }
   ],
   "source": [
    "# синтаксис NumPy\n",
    "arr_3[1, 2]"
   ]
  },
  {
   "cell_type": "code",
   "execution_count": null,
   "id": "a790865a",
   "metadata": {},
   "outputs": [],
   "source": []
  },
  {
   "cell_type": "markdown",
   "id": "a3e09244",
   "metadata": {},
   "source": [
    "- Срезы"
   ]
  },
  {
   "cell_type": "code",
   "execution_count": 42,
   "id": "b4144106",
   "metadata": {},
   "outputs": [
    {
     "data": {
      "text/plain": [
       "array([6, 7, 4, 9, 2])"
      ]
     },
     "execution_count": 42,
     "metadata": {},
     "output_type": "execute_result"
    }
   ],
   "source": [
    "# 1-мерный массив\n",
    "arr_2[:5]"
   ]
  },
  {
   "cell_type": "code",
   "execution_count": 43,
   "id": "6e7e2290",
   "metadata": {},
   "outputs": [
    {
     "data": {
      "text/plain": [
       "array([9, 2, 9, 7, 2])"
      ]
     },
     "execution_count": 43,
     "metadata": {},
     "output_type": "execute_result"
    }
   ],
   "source": [
    "arr_2[5:]"
   ]
  },
  {
   "cell_type": "code",
   "execution_count": 44,
   "id": "ee6d6a44",
   "metadata": {},
   "outputs": [
    {
     "data": {
      "text/plain": [
       "array([2, 9, 9, 9, 7])"
      ]
     },
     "execution_count": 44,
     "metadata": {},
     "output_type": "execute_result"
    }
   ],
   "source": [
    "arr_2[::-2]"
   ]
  },
  {
   "cell_type": "code",
   "execution_count": 45,
   "id": "ad0eb11c",
   "metadata": {},
   "outputs": [
    {
     "data": {
      "text/plain": [
       "array([7, 9, 2, 9])"
      ]
     },
     "execution_count": 45,
     "metadata": {},
     "output_type": "execute_result"
    }
   ],
   "source": [
    "arr_2[-2:-6:-1]"
   ]
  },
  {
   "cell_type": "code",
   "execution_count": 46,
   "id": "5e874322",
   "metadata": {},
   "outputs": [
    {
     "data": {
      "text/plain": [
       "array([[5, 1, 6],\n",
       "       [4, 2, 9]])"
      ]
     },
     "execution_count": 46,
     "metadata": {},
     "output_type": "execute_result"
    }
   ],
   "source": [
    "# 2-мерный массив\n",
    "arr_3[1:, :3]"
   ]
  },
  {
   "cell_type": "code",
   "execution_count": 47,
   "id": "7621233f",
   "metadata": {},
   "outputs": [
    {
     "data": {
      "text/plain": [
       "array([4, 7, 0])"
      ]
     },
     "execution_count": 47,
     "metadata": {},
     "output_type": "execute_result"
    }
   ],
   "source": [
    "arr_3[0, 1:]"
   ]
  },
  {
   "cell_type": "code",
   "execution_count": 48,
   "id": "7f6a7dce",
   "metadata": {},
   "outputs": [
    {
     "data": {
      "text/plain": [
       "array([4, 1])"
      ]
     },
     "execution_count": 48,
     "metadata": {},
     "output_type": "execute_result"
    }
   ],
   "source": [
    "arr_3[:2, 1]"
   ]
  },
  {
   "cell_type": "code",
   "execution_count": null,
   "id": "7a0adf85",
   "metadata": {},
   "outputs": [],
   "source": []
  },
  {
   "cell_type": "markdown",
   "id": "cb9e7ef1",
   "metadata": {},
   "source": [
    "- представление (views) и копии (copies)"
   ]
  },
  {
   "cell_type": "code",
   "execution_count": 50,
   "id": "46eb8e68",
   "metadata": {},
   "outputs": [
    {
     "data": {
      "text/plain": [
       "[3, 4, 5]"
      ]
     },
     "execution_count": 50,
     "metadata": {},
     "output_type": "execute_result"
    }
   ],
   "source": [
    "my_list = [1,2,3,4,5]\n",
    "sub_list = my_list[2:]\n",
    "sub_list"
   ]
  },
  {
   "cell_type": "code",
   "execution_count": 51,
   "id": "986a0d2c",
   "metadata": {},
   "outputs": [
    {
     "data": {
      "text/plain": [
       "[100, 4, 5]"
      ]
     },
     "execution_count": 51,
     "metadata": {},
     "output_type": "execute_result"
    }
   ],
   "source": [
    "sub_list[0] = 100\n",
    "sub_list"
   ]
  },
  {
   "cell_type": "code",
   "execution_count": 52,
   "id": "9fc23332",
   "metadata": {},
   "outputs": [
    {
     "data": {
      "text/plain": [
       "[1, 2, 3, 4, 5]"
      ]
     },
     "execution_count": 52,
     "metadata": {},
     "output_type": "execute_result"
    }
   ],
   "source": [
    "my_list"
   ]
  },
  {
   "cell_type": "code",
   "execution_count": 53,
   "id": "4de428fb",
   "metadata": {},
   "outputs": [
    {
     "data": {
      "text/plain": [
       "array([3, 4, 5])"
      ]
     },
     "execution_count": 53,
     "metadata": {},
     "output_type": "execute_result"
    }
   ],
   "source": [
    "# срез массива создает представление исходного массива\n",
    "my_arr = np.array([1,2,3,4,5])\n",
    "sub_arr = my_arr[2:]\n",
    "sub_arr"
   ]
  },
  {
   "cell_type": "code",
   "execution_count": 54,
   "id": "406905a9",
   "metadata": {},
   "outputs": [
    {
     "data": {
      "text/plain": [
       "array([10,  4,  5])"
      ]
     },
     "execution_count": 54,
     "metadata": {},
     "output_type": "execute_result"
    }
   ],
   "source": [
    "sub_arr[0] = 10\n",
    "sub_arr"
   ]
  },
  {
   "cell_type": "code",
   "execution_count": 55,
   "id": "5b10fa74",
   "metadata": {},
   "outputs": [
    {
     "data": {
      "text/plain": [
       "array([ 1,  2, 10,  4,  5])"
      ]
     },
     "execution_count": 55,
     "metadata": {},
     "output_type": "execute_result"
    }
   ],
   "source": [
    "my_arr"
   ]
  },
  {
   "cell_type": "code",
   "execution_count": 56,
   "id": "6968726d",
   "metadata": {},
   "outputs": [
    {
     "data": {
      "text/plain": [
       "array([10,  4,  5])"
      ]
     },
     "execution_count": 56,
     "metadata": {},
     "output_type": "execute_result"
    }
   ],
   "source": [
    "copy_arr = my_arr[2:].copy()\n",
    "copy_arr"
   ]
  },
  {
   "cell_type": "code",
   "execution_count": 57,
   "id": "80ad0ff3",
   "metadata": {},
   "outputs": [
    {
     "data": {
      "text/plain": [
       "array([1000,    4,    5])"
      ]
     },
     "execution_count": 57,
     "metadata": {},
     "output_type": "execute_result"
    }
   ],
   "source": [
    "copy_arr[0] = 1000\n",
    "copy_arr"
   ]
  },
  {
   "cell_type": "code",
   "execution_count": 58,
   "id": "4f0f710b",
   "metadata": {},
   "outputs": [
    {
     "data": {
      "text/plain": [
       "array([ 1,  2, 10,  4,  5])"
      ]
     },
     "execution_count": 58,
     "metadata": {},
     "output_type": "execute_result"
    }
   ],
   "source": [
    "my_arr"
   ]
  },
  {
   "cell_type": "code",
   "execution_count": null,
   "id": "29d316cc",
   "metadata": {},
   "outputs": [],
   "source": []
  },
  {
   "cell_type": "markdown",
   "id": "4de134bd",
   "metadata": {},
   "source": [
    "- Изменение формы"
   ]
  },
  {
   "cell_type": "code",
   "execution_count": 60,
   "id": "83032812",
   "metadata": {},
   "outputs": [
    {
     "data": {
      "text/plain": [
       "array([1, 2, 3, 4, 5, 6, 7, 8, 9])"
      ]
     },
     "execution_count": 60,
     "metadata": {},
     "output_type": "execute_result"
    }
   ],
   "source": [
    "# 1-мерный массив (вектор-строка)\n",
    "arr_4 = np.arange(1, 10)\n",
    "arr_4"
   ]
  },
  {
   "cell_type": "code",
   "execution_count": 61,
   "id": "95fbbfc2",
   "metadata": {},
   "outputs": [
    {
     "data": {
      "text/plain": [
       "(9,)"
      ]
     },
     "execution_count": 61,
     "metadata": {},
     "output_type": "execute_result"
    }
   ],
   "source": [
    "arr_4.shape"
   ]
  },
  {
   "cell_type": "code",
   "execution_count": 62,
   "id": "beb1f1eb",
   "metadata": {},
   "outputs": [
    {
     "data": {
      "text/plain": [
       "array([[1],\n",
       "       [2],\n",
       "       [3],\n",
       "       [4],\n",
       "       [5],\n",
       "       [6],\n",
       "       [7],\n",
       "       [8],\n",
       "       [9]])"
      ]
     },
     "execution_count": 62,
     "metadata": {},
     "output_type": "execute_result"
    }
   ],
   "source": [
    "# вектор-строка\n",
    "# технически это двумерный массив\n",
    "arr_4.reshape((9,1))"
   ]
  },
  {
   "cell_type": "code",
   "execution_count": 65,
   "id": "62e3c3ad",
   "metadata": {},
   "outputs": [
    {
     "data": {
      "text/plain": [
       "array([[0.89763914, 0.96436198, 0.96832552],\n",
       "       [0.34820926, 0.09174319, 0.2690691 ]])"
      ]
     },
     "execution_count": 65,
     "metadata": {},
     "output_type": "execute_result"
    }
   ],
   "source": [
    "arr_5 = np.random.random((2,3))\n",
    "arr_5"
   ]
  },
  {
   "cell_type": "code",
   "execution_count": 66,
   "id": "0a1a8442",
   "metadata": {},
   "outputs": [
    {
     "data": {
      "text/plain": [
       "array([[0.89763914, 0.96436198],\n",
       "       [0.96832552, 0.34820926],\n",
       "       [0.09174319, 0.2690691 ]])"
      ]
     },
     "execution_count": 66,
     "metadata": {},
     "output_type": "execute_result"
    }
   ],
   "source": [
    "arr_5.reshape((3,2))"
   ]
  },
  {
   "cell_type": "code",
   "execution_count": 67,
   "id": "73476baf",
   "metadata": {},
   "outputs": [
    {
     "data": {
      "text/plain": [
       "array([[0.89763914],\n",
       "       [0.96436198],\n",
       "       [0.96832552],\n",
       "       [0.34820926],\n",
       "       [0.09174319],\n",
       "       [0.2690691 ]])"
      ]
     },
     "execution_count": 67,
     "metadata": {},
     "output_type": "execute_result"
    }
   ],
   "source": [
    "arr_5.reshape((6,1))"
   ]
  },
  {
   "cell_type": "code",
   "execution_count": 68,
   "id": "af3713cc",
   "metadata": {},
   "outputs": [
    {
     "data": {
      "text/plain": [
       "array([0.89763914, 0.96436198, 0.96832552, 0.34820926, 0.09174319,\n",
       "       0.2690691 ])"
      ]
     },
     "execution_count": 68,
     "metadata": {},
     "output_type": "execute_result"
    }
   ],
   "source": [
    "arr_5.reshape((6))"
   ]
  },
  {
   "cell_type": "markdown",
   "id": "e855867a",
   "metadata": {},
   "source": [
    "# Операции"
   ]
  },
  {
   "cell_type": "markdown",
   "id": "bab1ae6b",
   "metadata": {},
   "source": [
    "- универсальные функции"
   ]
  },
  {
   "cell_type": "code",
   "execution_count": 69,
   "id": "458545fe",
   "metadata": {},
   "outputs": [
    {
     "name": "stdout",
     "output_type": "stream",
     "text": [
      "[0 1 2 3 4]\n",
      "[1 2 3 4 5]\n"
     ]
    }
   ],
   "source": [
    "a = np.arange(5)\n",
    "b = np.arange(1,6)\n",
    "\n",
    "print(a)\n",
    "print(b)"
   ]
  },
  {
   "cell_type": "code",
   "execution_count": 70,
   "id": "36731c8d",
   "metadata": {},
   "outputs": [
    {
     "data": {
      "text/plain": [
       "array([1, 3, 5, 7, 9])"
      ]
     },
     "execution_count": 70,
     "metadata": {},
     "output_type": "execute_result"
    }
   ],
   "source": [
    "# поэлементное сложение массивов\n",
    "# \"+\" - алиас универсальной функции np.add()\n",
    "a + b"
   ]
  },
  {
   "cell_type": "code",
   "execution_count": 71,
   "id": "1a81fec8",
   "metadata": {},
   "outputs": [
    {
     "data": {
      "text/plain": [
       "array([1, 3, 5, 7, 9])"
      ]
     },
     "execution_count": 71,
     "metadata": {},
     "output_type": "execute_result"
    }
   ],
   "source": [
    "np.add(a, b)"
   ]
  },
  {
   "cell_type": "code",
   "execution_count": 72,
   "id": "92898832",
   "metadata": {},
   "outputs": [
    {
     "data": {
      "text/plain": [
       "30"
      ]
     },
     "execution_count": 72,
     "metadata": {},
     "output_type": "execute_result"
    }
   ],
   "source": [
    "np.add(10, 20)"
   ]
  },
  {
   "cell_type": "code",
   "execution_count": 73,
   "id": "10dc9a0f",
   "metadata": {},
   "outputs": [
    {
     "data": {
      "text/plain": [
       "array([ 0,  2,  6, 12, 20])"
      ]
     },
     "execution_count": 73,
     "metadata": {},
     "output_type": "execute_result"
    }
   ],
   "source": [
    "# поэлементное умножение (произведение Адамара)\n",
    "a * b"
   ]
  },
  {
   "cell_type": "code",
   "execution_count": 78,
   "id": "d2a1832c",
   "metadata": {},
   "outputs": [
    {
     "data": {
      "text/plain": [
       "array([[1],\n",
       "       [2],\n",
       "       [3],\n",
       "       [4],\n",
       "       [5]])"
      ]
     },
     "execution_count": 78,
     "metadata": {},
     "output_type": "execute_result"
    }
   ],
   "source": [
    "# матричное умножение\n",
    "c = b.reshape((5,1))\n",
    "c"
   ]
  },
  {
   "cell_type": "code",
   "execution_count": 79,
   "id": "d4cffd83",
   "metadata": {},
   "outputs": [
    {
     "data": {
      "text/plain": [
       "array([40])"
      ]
     },
     "execution_count": 79,
     "metadata": {},
     "output_type": "execute_result"
    }
   ],
   "source": [
    "np.dot(a,c)"
   ]
  },
  {
   "cell_type": "code",
   "execution_count": null,
   "id": "8bae882f",
   "metadata": {},
   "outputs": [],
   "source": [
    "# a[0] * c[0] + a[1] * c[1] + a[2] * c[2] + ..."
   ]
  }
 ],
 "metadata": {
  "kernelspec": {
   "display_name": "Python 3",
   "language": "python",
   "name": "python3"
  },
  "language_info": {
   "codemirror_mode": {
    "name": "ipython",
    "version": 3
   },
   "file_extension": ".py",
   "mimetype": "text/x-python",
   "name": "python",
   "nbconvert_exporter": "python",
   "pygments_lexer": "ipython3",
   "version": "3.8.8"
  }
 },
 "nbformat": 4,
 "nbformat_minor": 5
}
